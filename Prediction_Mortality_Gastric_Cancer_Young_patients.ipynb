{
 "cells": [
  {
   "cell_type": "code",
   "execution_count": 103,
   "id": "37de5843",
   "metadata": {},
   "outputs": [
    {
     "name": "stdout",
     "output_type": "stream",
     "text": [
      "Package                  Version\r\n",
      "------------------------ ---------------\r\n",
      "absl-py                  1.0.0\r\n",
      "argon2-cffi              21.3.0\r\n",
      "argon2-cffi-bindings     21.2.0\r\n",
      "asn1crypto               0.24.0\r\n",
      "astor                    0.8.1\r\n",
      "astunparse               1.6.3\r\n",
      "attrs                    21.4.0\r\n",
      "backcall                 0.2.0\r\n",
      "beautifulsoup4           4.11.1\r\n",
      "bleach                   5.0.0\r\n",
      "boto3                    1.33.13\r\n",
      "botocore                 1.33.13\r\n",
      "cachetools               5.0.0\r\n",
      "certifi                  2021.10.8\r\n",
      "cffi                     1.15.0\r\n",
      "charset-normalizer       2.0.12\r\n",
      "cloudpickle              2.2.1\r\n",
      "copulas                  0.9.0\r\n",
      "cryptography             2.1.4\r\n",
      "ctgan                    0.7.3\r\n",
      "cycler                   0.11.0\r\n",
      "debugpy                  1.6.0\r\n",
      "decorator                5.1.1\r\n",
      "deepecho                 0.4.1\r\n",
      "defusedxml               0.7.1\r\n",
      "dm-tree                  0.1.7\r\n",
      "ecos                     2.0.13\r\n",
      "entrypoints              0.4\r\n",
      "et-xmlfile               1.1.0\r\n",
      "Faker                    14.2.1\r\n",
      "fastjsonschema           2.15.3\r\n",
      "fonttools                4.32.0\r\n",
      "gast                     0.2.2\r\n",
      "google-auth              2.6.3\r\n",
      "google-auth-oauthlib     0.4.6\r\n",
      "google-pasta             0.2.0\r\n",
      "graphviz                 0.20.1\r\n",
      "grpcio                   1.44.0\r\n",
      "h5py                     2.10.0\r\n",
      "hdbcli                   2.15.19\r\n",
      "idna                     2.6\r\n",
      "importlib-metadata       4.11.3\r\n",
      "importlib-resources      5.6.0\r\n",
      "ipykernel                6.13.0\r\n",
      "ipython                  7.32.0\r\n",
      "ipython-genutils         0.2.0\r\n",
      "ipywidgets               7.7.0\r\n",
      "jedi                     0.18.1\r\n",
      "Jinja2                   3.1.1\r\n",
      "jmespath                 1.0.1\r\n",
      "joblib                   1.3.2\r\n",
      "jsonschema               4.4.0\r\n",
      "jupyter                  1.0.0\r\n",
      "jupyter-client           7.2.2\r\n",
      "jupyter-console          6.4.3\r\n",
      "jupyter-core             4.9.2\r\n",
      "jupyterlab-pygments      0.2.0\r\n",
      "jupyterlab-widgets       1.1.0\r\n",
      "Keras                    2.4.3\r\n",
      "Keras-Applications       1.0.8\r\n",
      "Keras-Preprocessing      1.1.2\r\n",
      "keyring                  10.6.0\r\n",
      "keyrings.alt             3.0\r\n",
      "kiwisolver               1.4.2\r\n",
      "lightgbm                 4.3.0\r\n",
      "Markdown                 3.3.6\r\n",
      "MarkupSafe               2.1.1\r\n",
      "matplotlib               3.5.1\r\n",
      "matplotlib-inline        0.1.3\r\n",
      "mistune                  0.8.4\r\n",
      "mlxtend                  0.23.1\r\n",
      "msgpack                  1.0.5\r\n",
      "msgpack-numpy            0.4.8\r\n",
      "mysql-connector          2.2.9\r\n",
      "mysql-connector-python   8.0.28\r\n",
      "nbclient                 0.5.13\r\n",
      "nbconvert                6.5.0\r\n",
      "nbformat                 5.3.0\r\n",
      "nccdbconlib              1.0.0\r\n",
      "nest-asyncio             1.5.5\r\n",
      "notebook                 6.4.10\r\n",
      "numexpr                  2.8.6\r\n",
      "numpy                    1.21.6\r\n",
      "nvidia-cublas-cu11       11.10.3.66\r\n",
      "nvidia-cuda-nvrtc-cu11   11.7.99\r\n",
      "nvidia-cuda-runtime-cu11 11.7.99\r\n",
      "nvidia-cudnn-cu11        8.5.0.96\r\n",
      "oauthlib                 3.2.0\r\n",
      "opencv-python            4.5.5.64\r\n",
      "openpyxl                 3.1.2\r\n",
      "opt-einsum               3.3.0\r\n",
      "osqp                     0.6.5\r\n",
      "packaging                21.3\r\n",
      "pandas                   1.3.5\r\n",
      "pandocfilters            1.5.0\r\n",
      "parso                    0.8.3\r\n",
      "pexpect                  4.8.0\r\n",
      "pickleshare              0.7.5\r\n",
      "Pillow                   9.1.0\r\n",
      "pip                      24.0\r\n",
      "plotly                   5.18.0\r\n",
      "prometheus-client        0.14.1\r\n",
      "prompt-toolkit           3.0.29\r\n",
      "protobuf                 3.20.0\r\n",
      "psutil                   5.9.0\r\n",
      "ptyprocess               0.7.0\r\n",
      "pyasn1                   0.4.8\r\n",
      "pyasn1-modules           0.2.8\r\n",
      "pycparser                2.21\r\n",
      "pycrypto                 2.6.1\r\n",
      "Pygments                 2.11.2\r\n",
      "PyGObject                3.26.1\r\n",
      "pyparsing                3.0.8\r\n",
      "pyrsistent               0.18.1\r\n",
      "python-apt               1.6.5+ubuntu0.7\r\n",
      "python-dateutil          2.8.2\r\n",
      "pytz                     2022.1\r\n",
      "pyxdg                    0.25\r\n",
      "PyYAML                   6.0\r\n",
      "pyzmq                    22.3.0\r\n",
      "qdldl                    0.1.7.post1\r\n",
      "qtconsole                5.3.0\r\n",
      "QtPy                     2.0.1\r\n",
      "rdt                      1.5.0\r\n",
      "requests                 2.27.1\r\n",
      "requests-oauthlib        1.3.1\r\n",
      "rsa                      4.8\r\n",
      "s3transfer               0.8.2\r\n",
      "scikit-learn             1.0.2\r\n",
      "scikit-survival          0.17.2\r\n",
      "scipy                    1.7.3\r\n",
      "sdmetrics                0.10.1\r\n",
      "sdv                      1.2.0\r\n",
      "SecretStorage            2.3.1\r\n",
      "Send2Trash               1.8.0\r\n",
      "setuptools               62.1.0\r\n",
      "six                      1.16.0\r\n",
      "soupsieve                2.3.2\r\n",
      "tabulate                 0.9.0\r\n",
      "tenacity                 8.2.3\r\n",
      "tensorboard              1.15.0\r\n",
      "tensorboard-data-server  0.6.1\r\n",
      "tensorboard-plugin-wit   1.8.1\r\n",
      "tensorflow               1.15.5\r\n",
      "tensorflow-estimator     1.15.1\r\n",
      "tensorflow-gpu           2.3.1\r\n",
      "tensorflow-probability   0.16.0\r\n",
      "tensorpack               0.9.4\r\n",
      "termcolor                1.1.0\r\n",
      "terminado                0.13.3\r\n",
      "tgan                     0.1.0\r\n",
      "threadpoolctl            3.1.0\r\n",
      "tinycss2                 1.1.1\r\n",
      "torch                    1.13.1\r\n",
      "tornado                  6.1\r\n",
      "tqdm                     4.66.2\r\n",
      "traitlets                5.1.1\r\n",
      "typing_extensions        4.1.1\r\n",
      "unattended-upgrades      0.1\r\n",
      "urllib3                  1.26.9\r\n",
      "wcwidth                  0.2.5\r\n",
      "webencodings             0.5.1\r\n",
      "Werkzeug                 2.1.1\r\n",
      "wheel                    0.30.0\r\n",
      "widgetsnbextension       3.6.0\r\n",
      "wrapt                    1.14.0\r\n",
      "xgboost                  1.6.2\r\n",
      "zipp                     3.8.0\r\n"
     ]
    }
   ],
   "source": [
    "!pip list"
   ]
  },
  {
   "cell_type": "code",
   "execution_count": 105,
   "id": "f61e6192",
   "metadata": {},
   "outputs": [
    {
     "name": "stdout",
     "output_type": "stream",
     "text": [
      "1.15.5\n"
     ]
    }
   ],
   "source": [
    "\n",
    "import tensorflow as tf\n",
    "print(tf.__version__)"
   ]
  },
  {
   "cell_type": "code",
   "execution_count": 106,
   "id": "b16cd680",
   "metadata": {},
   "outputs": [
    {
     "name": "stdout",
     "output_type": "stream",
     "text": [
      "3.7.5 (default, Dec  9 2021, 17:04:37) \n",
      "[GCC 8.4.0]\n"
     ]
    }
   ],
   "source": [
    "\n",
    "import sys\n",
    "print(sys.version)"
   ]
  },
  {
   "cell_type": "code",
   "execution_count": 1,
   "id": "ab70110f",
   "metadata": {},
   "outputs": [],
   "source": [
    "\n",
    "import pandas as pd\n",
    "import os\n",
    "import numpy as np"
   ]
  },
  {
   "cell_type": "code",
   "execution_count": 2,
   "id": "4f918a61",
   "metadata": {},
   "outputs": [],
   "source": [
    "\n",
    "from sklearn.model_selection import train_test_split\n",
    "from sksurv.ensemble import RandomSurvivalForest\n",
    "from sksurv.ensemble import RandomSurvivalForest\n",
    "from sksurv.metrics import concordance_index_censored\n",
    "\n",
    "import csv\n",
    "from sksurv.ensemble import GradientBoostingSurvivalAnalysis\n",
    "from sksurv.ensemble import ExtraSurvivalTrees\n",
    "from sklearn.preprocessing import StandardScaler\n",
    "from sklearn.inspection import permutation_importance"
   ]
  },
  {
   "cell_type": "code",
   "execution_count": 3,
   "id": "b2d4fa07",
   "metadata": {},
   "outputs": [],
   "source": [
    "xl = pd.read_excel('/project/kc20230915001/src/STOMACH13_V7 Younger.xlsx')"
   ]
  },
  {
   "cell_type": "code",
   "execution_count": 4,
   "id": "1127ea3c",
   "metadata": {},
   "outputs": [],
   "source": [
    "xl.to_csv('/project/kc20230915001/src/data_young.csv', index=False)"
   ]
  },
  {
   "cell_type": "code",
   "execution_count": 5,
   "id": "28d5aaef",
   "metadata": {},
   "outputs": [],
   "source": [
    "\n",
    "df = pd.read_csv('/project/kc20230915001/src/data_young.csv')"
   ]
  },
  {
   "cell_type": "markdown",
   "id": "b51447b2",
   "metadata": {},
   "source": [
    "### Data encoding"
   ]
  },
  {
   "cell_type": "code",
   "execution_count": 6,
   "id": "32cf6867",
   "metadata": {},
   "outputs": [],
   "source": [
    "from sklearn.preprocessing import LabelEncoder, OneHotEncoder"
   ]
  },
  {
   "cell_type": "code",
   "execution_count": 7,
   "id": "4869a55c",
   "metadata": {},
   "outputs": [
    {
     "data": {
      "text/plain": [
       "Index(['SEX', 'TCODE', 'MCODE_GRP', 'GRADE', 'AGE', 'T_SIZE', 'AJCC7_STAGE',\n",
       "       'G1E_HGHT', 'G1E_WGHT', 'G1E_BMI', 'G1E_WSTC', 'G1E_BP_SYS',\n",
       "       'G1E_BP_DIA', 'G1E_URN_PROT', 'G1E_HGB', 'G1E_FBS', 'G1E_TOT_CHOL',\n",
       "       'G1E_SGOT', 'G1E_SGPT', 'G1E_GGT', 'G1E_TG', 'G1E_HDL', 'G1E_LDL',\n",
       "       'G1E_CRTN', 'G1E_GFR', 'Q_SMK_YN', 'Q_DRK_FRQ_V09N', 'Q_DRK_AMT_V09N',\n",
       "       'Q_PA_VD', 'Q_PA_MD', 'Q_PA_WALK', 'AF', 'CKD', 'COPD', 'DM', 'DVT',\n",
       "       'DYS', 'HF', 'hyper', 'LD', 'MI', 'obesity', 'Obesity', 'stroke',\n",
       "       '5year_survival_time(day)', '5year_death', '3year_survival_time(day)',\n",
       "       '3year_death', '1year_survival_time(day)', '1year_death'],\n",
       "      dtype='object')"
      ]
     },
     "execution_count": 7,
     "metadata": {},
     "output_type": "execute_result"
    }
   ],
   "source": [
    "df.columns"
   ]
  },
  {
   "cell_type": "code",
   "execution_count": 8,
   "id": "f6674c70",
   "metadata": {},
   "outputs": [],
   "source": [
    "X = df[['SEX', 'TCODE', 'MCODE_GRP', 'GRADE', 'AGE', 'T_SIZE', 'AJCC7_STAGE',\n",
    "        'G1E_HGHT', 'G1E_WGHT', 'G1E_BMI', 'G1E_WSTC', 'G1E_BP_SYS',\n",
    "        'G1E_BP_DIA', 'G1E_URN_PROT', 'G1E_HGB', 'G1E_FBS', 'G1E_TOT_CHOL',\n",
    "        'G1E_SGOT', 'G1E_SGPT', 'G1E_GGT', 'G1E_TG', 'G1E_HDL', 'G1E_LDL',\n",
    "        'G1E_CRTN', 'G1E_GFR', 'Q_SMK_YN', 'Q_DRK_FRQ_V09N', 'Q_DRK_AMT_V09N',\n",
    "        'Q_PA_VD', 'Q_PA_MD', 'Q_PA_WALK', 'AF', 'CKD', 'COPD', 'DM', 'DVT',\n",
    "        'DYS', 'HF', 'hyper', 'LD', 'MI', 'obesity', 'Obesity', 'stroke']]\n",
    "\n",
    "y = df[['5year_survival_time(day)', '5year_death', '3year_survival_time(day)',\n",
    "        '3year_death', '1year_survival_time(day)', '1year_death']]"
   ]
  },
  {
   "cell_type": "code",
   "execution_count": 9,
   "id": "9f45b3c6",
   "metadata": {},
   "outputs": [],
   "source": [
    "categorical_columns = ['SEX','TCODE','MCODE_GRP','Q_SMK_YN','G1E_HGHT', 'G1E_WGHT', 'G1E_WSTC']\n",
    "\n",
    "categorical_order_columns = ['AJCC7_STAGE','GRADE', 'G1E_URN_PROT']\n",
    "\n",
    "onehot_encoder = OneHotEncoder(sparse=False)\n",
    "\n",
    "X_encoded = pd.DataFrame(onehot_encoder.fit_transform(X[categorical_columns]))\n",
    "X_encoded.columns = onehot_encoder.get_feature_names_out(categorical_columns)\n",
    "\n",
    "# Drop unnecessary columns or rows from the dataset\n",
    "X_continuous = X.drop(columns=categorical_columns)\n",
    "X=pd.concat([X_continuous, X_encoded], axis=1)\n",
    "\n",
    "label_encoder = LabelEncoder()\n",
    "\n",
    "for column in categorical_order_columns:\n",
    "    X[column]=label_encoder.fit_transform(X[column])"
   ]
  },
  {
   "cell_type": "code",
   "execution_count": 10,
   "id": "7e5d523d",
   "metadata": {},
   "outputs": [],
   "source": [
    "# Split the dataset into training and testing sets\n",
    "from sklearn.model_selection import train_test_split\n",
    "\n",
    "\n",
    "X_train, X_test, y_train, y_test = train_test_split(X,y, test_size=0.3, random_state=42)"
   ]
  },
  {
   "cell_type": "code",
   "execution_count": 11,
   "id": "e8558116",
   "metadata": {},
   "outputs": [
    {
     "name": "stdout",
     "output_type": "stream",
     "text": [
      "(585, 66)\n",
      "(585, 6)\n",
      "(252, 66)\n",
      "(252, 6)\n"
     ]
    }
   ],
   "source": [
    "print(X_train.shape)\n",
    "print(y_train.shape)\n",
    "print(X_test.shape)\n",
    "print(y_test.shape)"
   ]
  },
  {
   "cell_type": "code",
   "execution_count": 12,
   "id": "47f1d987",
   "metadata": {},
   "outputs": [
    {
     "data": {
      "text/html": [
       "<div>\n",
       "<style scoped>\n",
       "    .dataframe tbody tr th:only-of-type {\n",
       "        vertical-align: middle;\n",
       "    }\n",
       "\n",
       "    .dataframe tbody tr th {\n",
       "        vertical-align: top;\n",
       "    }\n",
       "\n",
       "    .dataframe thead th {\n",
       "        text-align: right;\n",
       "    }\n",
       "</style>\n",
       "<table border=\"1\" class=\"dataframe\">\n",
       "  <thead>\n",
       "    <tr style=\"text-align: right;\">\n",
       "      <th></th>\n",
       "      <th>GRADE</th>\n",
       "      <th>AGE</th>\n",
       "      <th>T_SIZE</th>\n",
       "      <th>AJCC7_STAGE</th>\n",
       "      <th>G1E_BMI</th>\n",
       "      <th>G1E_BP_SYS</th>\n",
       "      <th>G1E_BP_DIA</th>\n",
       "      <th>G1E_URN_PROT</th>\n",
       "      <th>G1E_HGB</th>\n",
       "      <th>G1E_FBS</th>\n",
       "      <th>...</th>\n",
       "      <th>G1E_WGHT_40</th>\n",
       "      <th>G1E_WGHT_50</th>\n",
       "      <th>G1E_WGHT_60</th>\n",
       "      <th>G1E_WGHT_70</th>\n",
       "      <th>G1E_WGHT_80</th>\n",
       "      <th>G1E_WGHT_90</th>\n",
       "      <th>G1E_WSTC_60</th>\n",
       "      <th>G1E_WSTC_70</th>\n",
       "      <th>G1E_WSTC_80</th>\n",
       "      <th>G1E_WSTC_90</th>\n",
       "    </tr>\n",
       "  </thead>\n",
       "  <tbody>\n",
       "    <tr>\n",
       "      <th>234</th>\n",
       "      <td>2</td>\n",
       "      <td>30</td>\n",
       "      <td>150</td>\n",
       "      <td>5</td>\n",
       "      <td>21</td>\n",
       "      <td>129</td>\n",
       "      <td>81</td>\n",
       "      <td>0</td>\n",
       "      <td>12.6</td>\n",
       "      <td>94</td>\n",
       "      <td>...</td>\n",
       "      <td>0.0</td>\n",
       "      <td>1.0</td>\n",
       "      <td>0.0</td>\n",
       "      <td>0.0</td>\n",
       "      <td>0.0</td>\n",
       "      <td>0.0</td>\n",
       "      <td>0.0</td>\n",
       "      <td>1.0</td>\n",
       "      <td>0.0</td>\n",
       "      <td>0.0</td>\n",
       "    </tr>\n",
       "    <tr>\n",
       "      <th>220</th>\n",
       "      <td>2</td>\n",
       "      <td>41</td>\n",
       "      <td>15</td>\n",
       "      <td>2</td>\n",
       "      <td>21</td>\n",
       "      <td>90</td>\n",
       "      <td>62</td>\n",
       "      <td>0</td>\n",
       "      <td>11.8</td>\n",
       "      <td>90</td>\n",
       "      <td>...</td>\n",
       "      <td>0.0</td>\n",
       "      <td>1.0</td>\n",
       "      <td>0.0</td>\n",
       "      <td>0.0</td>\n",
       "      <td>0.0</td>\n",
       "      <td>0.0</td>\n",
       "      <td>0.0</td>\n",
       "      <td>1.0</td>\n",
       "      <td>0.0</td>\n",
       "      <td>0.0</td>\n",
       "    </tr>\n",
       "    <tr>\n",
       "      <th>316</th>\n",
       "      <td>2</td>\n",
       "      <td>50</td>\n",
       "      <td>18</td>\n",
       "      <td>0</td>\n",
       "      <td>24</td>\n",
       "      <td>120</td>\n",
       "      <td>80</td>\n",
       "      <td>0</td>\n",
       "      <td>12.7</td>\n",
       "      <td>107</td>\n",
       "      <td>...</td>\n",
       "      <td>0.0</td>\n",
       "      <td>0.0</td>\n",
       "      <td>1.0</td>\n",
       "      <td>0.0</td>\n",
       "      <td>0.0</td>\n",
       "      <td>0.0</td>\n",
       "      <td>1.0</td>\n",
       "      <td>0.0</td>\n",
       "      <td>0.0</td>\n",
       "      <td>0.0</td>\n",
       "    </tr>\n",
       "    <tr>\n",
       "      <th>333</th>\n",
       "      <td>1</td>\n",
       "      <td>49</td>\n",
       "      <td>24</td>\n",
       "      <td>0</td>\n",
       "      <td>26</td>\n",
       "      <td>110</td>\n",
       "      <td>70</td>\n",
       "      <td>0</td>\n",
       "      <td>14.8</td>\n",
       "      <td>92</td>\n",
       "      <td>...</td>\n",
       "      <td>0.0</td>\n",
       "      <td>0.0</td>\n",
       "      <td>0.0</td>\n",
       "      <td>1.0</td>\n",
       "      <td>0.0</td>\n",
       "      <td>0.0</td>\n",
       "      <td>0.0</td>\n",
       "      <td>0.0</td>\n",
       "      <td>1.0</td>\n",
       "      <td>0.0</td>\n",
       "    </tr>\n",
       "    <tr>\n",
       "      <th>132</th>\n",
       "      <td>2</td>\n",
       "      <td>29</td>\n",
       "      <td>15</td>\n",
       "      <td>0</td>\n",
       "      <td>20</td>\n",
       "      <td>111</td>\n",
       "      <td>69</td>\n",
       "      <td>0</td>\n",
       "      <td>14.5</td>\n",
       "      <td>102</td>\n",
       "      <td>...</td>\n",
       "      <td>1.0</td>\n",
       "      <td>0.0</td>\n",
       "      <td>0.0</td>\n",
       "      <td>0.0</td>\n",
       "      <td>0.0</td>\n",
       "      <td>0.0</td>\n",
       "      <td>0.0</td>\n",
       "      <td>1.0</td>\n",
       "      <td>0.0</td>\n",
       "      <td>0.0</td>\n",
       "    </tr>\n",
       "  </tbody>\n",
       "</table>\n",
       "<p>5 rows × 66 columns</p>\n",
       "</div>"
      ],
      "text/plain": [
       "     GRADE  AGE  T_SIZE  AJCC7_STAGE  G1E_BMI  G1E_BP_SYS  G1E_BP_DIA  \\\n",
       "234      2   30     150            5       21         129          81   \n",
       "220      2   41      15            2       21          90          62   \n",
       "316      2   50      18            0       24         120          80   \n",
       "333      1   49      24            0       26         110          70   \n",
       "132      2   29      15            0       20         111          69   \n",
       "\n",
       "     G1E_URN_PROT  G1E_HGB  G1E_FBS  ...  G1E_WGHT_40  G1E_WGHT_50  \\\n",
       "234             0     12.6       94  ...          0.0          1.0   \n",
       "220             0     11.8       90  ...          0.0          1.0   \n",
       "316             0     12.7      107  ...          0.0          0.0   \n",
       "333             0     14.8       92  ...          0.0          0.0   \n",
       "132             0     14.5      102  ...          1.0          0.0   \n",
       "\n",
       "     G1E_WGHT_60  G1E_WGHT_70  G1E_WGHT_80  G1E_WGHT_90  G1E_WSTC_60  \\\n",
       "234          0.0          0.0          0.0          0.0          0.0   \n",
       "220          0.0          0.0          0.0          0.0          0.0   \n",
       "316          1.0          0.0          0.0          0.0          1.0   \n",
       "333          0.0          1.0          0.0          0.0          0.0   \n",
       "132          0.0          0.0          0.0          0.0          0.0   \n",
       "\n",
       "     G1E_WSTC_70  G1E_WSTC_80  G1E_WSTC_90  \n",
       "234          1.0          0.0          0.0  \n",
       "220          1.0          0.0          0.0  \n",
       "316          0.0          0.0          0.0  \n",
       "333          0.0          1.0          0.0  \n",
       "132          1.0          0.0          0.0  \n",
       "\n",
       "[5 rows x 66 columns]"
      ]
     },
     "execution_count": 12,
     "metadata": {},
     "output_type": "execute_result"
    }
   ],
   "source": [
    "# Display the first few rows of the dataset\n",
    "X_train.head()"
   ]
  },
  {
   "cell_type": "code",
   "execution_count": 13,
   "id": "274d4d4c",
   "metadata": {},
   "outputs": [
    {
     "data": {
      "text/plain": [
       "Index(['5year_survival_time(day)', '5year_death', '3year_survival_time(day)',\n",
       "       '3year_death', '1year_survival_time(day)', '1year_death'],\n",
       "      dtype='object')"
      ]
     },
     "execution_count": 13,
     "metadata": {},
     "output_type": "execute_result"
    }
   ],
   "source": [
    "y_train.columns"
   ]
  },
  {
   "cell_type": "code",
   "execution_count": 14,
   "id": "47219ac7",
   "metadata": {},
   "outputs": [],
   "source": [
    "X_train.to_csv('/project/kc20230915001/src/encoding_data/X_train.csv', index=False)\n",
    "y_train.to_csv('/project/kc20230915001/src/encoding_data/y_train.csv', index=False)\n",
    "X_test.to_csv('/project/kc20230915001/src/encoding_data/X_test.csv', index=False)\n",
    "y_test.to_csv('/project/kc20230915001/src/encoding_data/y_test.csv', index=False)"
   ]
  },
  {
   "cell_type": "markdown",
   "id": "88655d21",
   "metadata": {},
   "source": [
    "### Dataset reconstruction"
   ]
  },
  {
   "cell_type": "code",
   "execution_count": 21,
   "id": "4eb53186",
   "metadata": {},
   "outputs": [],
   "source": [
    "\n",
    "X_train = pd.read_csv('/project/kc20230915001/src/encoding_data/X_train.csv')\n",
    "\n",
    "X_test = pd.read_csv('/project/kc20230915001/src/encoding_data/X_test.csv')\n",
    "\n",
    "y_train = pd.read_csv('/project/kc20230915001/src/encoding_data/y_train.csv')\n",
    "\n",
    "y_test = pd.read_csv('/project/kc20230915001/src/encoding_data/y_test.csv')"
   ]
  },
  {
   "cell_type": "code",
   "execution_count": 22,
   "id": "32f889e2",
   "metadata": {},
   "outputs": [],
   "source": [
    "# Drop unnecessary columns or rows from the dataset\n",
    "new_y_train = y_train.drop(columns=['3year_survival_time(day)', '3year_death', '1year_survival_time(day)','1year_death',])\n",
    "new_y_test = y_test.drop(columns=['3year_survival_time(day)', '3year_death', '1year_survival_time(day)', '1year_death'])"
   ]
  },
  {
   "cell_type": "code",
   "execution_count": 23,
   "id": "19acecf4",
   "metadata": {},
   "outputs": [],
   "source": [
    "new_y_train.to_csv('/project/kc20230915001/src/encoding_data/y_train_5year.csv', index=False)\n",
    "new_y_test.to_csv('/project/kc20230915001/src/encoding_data/y_test_5year.csv', index=False)"
   ]
  },
  {
   "cell_type": "markdown",
   "id": "28d9455d",
   "metadata": {},
   "source": [
    "### convert structured"
   ]
  },
  {
   "cell_type": "code",
   "execution_count": 84,
   "id": "75a38b09",
   "metadata": {},
   "outputs": [],
   "source": [
    "\n",
    "X_train = pd.read_csv('/project/kc20230915001/src/encoding_data/X_train.csv')\n",
    "\n",
    "X_test = pd.read_csv('/project/kc20230915001/src/encoding_data/X_test.csv')\n",
    "\n",
    "y_train = pd.read_csv('/project/kc20230915001/src/encoding_data/y_train_5year.csv')\n",
    "\n",
    "y_test = pd.read_csv('//project/kc20230915001/src/encoding_data/y_test_5year.csv')"
   ]
  },
  {
   "cell_type": "code",
   "execution_count": 85,
   "id": "a97c0a39",
   "metadata": {},
   "outputs": [
    {
     "data": {
      "text/plain": [
       "Index(['5year_survival_time(day)', '5year_death'], dtype='object')"
      ]
     },
     "execution_count": 85,
     "metadata": {},
     "output_type": "execute_result"
    }
   ],
   "source": [
    "y_train.columns"
   ]
  },
  {
   "cell_type": "code",
   "execution_count": 86,
   "id": "ff7f67e9",
   "metadata": {},
   "outputs": [],
   "source": [
    "new_order = ['5year_death', '5year_survival_time(day)']"
   ]
  },
  {
   "cell_type": "code",
   "execution_count": 87,
   "id": "017dcf3e",
   "metadata": {},
   "outputs": [],
   "source": [
    "y_train = y_train[new_order]\n",
    "y_test = y_test[new_order]"
   ]
  },
  {
   "cell_type": "code",
   "execution_count": 88,
   "id": "1c642aba",
   "metadata": {},
   "outputs": [
    {
     "data": {
      "text/plain": [
       "Index(['5year_death', '5year_survival_time(day)'], dtype='object')"
      ]
     },
     "execution_count": 88,
     "metadata": {},
     "output_type": "execute_result"
    }
   ],
   "source": [
    "y_train.columns"
   ]
  },
  {
   "cell_type": "code",
   "execution_count": 89,
   "id": "74846a33",
   "metadata": {},
   "outputs": [],
   "source": [
    "def convert_to_structured_array(data):\n",
    "    structured_data = np.zeros(data.shape[0], dtype={'names':('5year_death','5year_survival_time(day)'),'formats':('bool','f8')})\n",
    "    structured_data['5year_death'] = data['5year_death'].astype(bool)\n",
    "    structured_data['5year_survival_time(day)']=data['5year_survival_time(day)'].astype(float)\n",
    "    return structured_data\n",
    "\n",
    "y_train_structured = convert_to_structured_array(y_train)\n",
    "y_test_structured = convert_to_structured_array(y_test)"
   ]
  },
  {
   "cell_type": "code",
   "execution_count": 90,
   "id": "63abf0bf",
   "metadata": {},
   "outputs": [
    {
     "name": "stdout",
     "output_type": "stream",
     "text": [
      "[(False, 1825.) (False, 1825.) (False, 1825.) (False, 1825.)\n",
      " (False, 1825.)]\n"
     ]
    }
   ],
   "source": [
    "print(y_train_structured[:5])"
   ]
  },
  {
   "cell_type": "markdown",
   "id": "6b39aead",
   "metadata": {},
   "source": [
    "### RSF"
   ]
  },
  {
   "cell_type": "code",
   "execution_count": 91,
   "id": "753e1e45",
   "metadata": {},
   "outputs": [
    {
     "name": "stdout",
     "output_type": "stream",
     "text": [
      "C-index 평균: 0.9282\n",
      "C-index 표준편차: 0.0000\n"
     ]
    }
   ],
   "source": [
    "n_iterations = 10\n",
    "all_results = []\n",
    "\n",
    "\n",
    "for i in range(n_iterations):\n",
    "    rsf = RandomSurvivalForest(n_estimators = 100, random_state = i)\n",
    "# Fit the machine learning model to the training data\n",
    "    rsf.fit(X_train, y_train_structured)\n",
    "    \n",
    "# Make predictions using the trained model\n",
    "    y_pred = rsf.predict(X_test)\n",
    "    c_index = concordance_index_censored(y_test_structured['5year_death'], y_test_structured['5year_survival_time(day)'], y_pred)[0]\n",
    "    \n",
    "    result = permutation_importance(rsf, X_test, y_test_structured, n_repeats=10, random_state=i)\n",
    "    feature_importances = result.importances_mean\n",
    "    features = X_train.columns\n",
    "    \n",
    "    for feature, importance in zip(features, feature_importances):\n",
    "        all_results.append({\n",
    "            \"Iteration\": i+1,\n",
    "            \"C-index\": c_index,\n",
    "            \"feature\": feature,\n",
    "            \"Importance\": importance\n",
    "        })\n",
    "        \n",
    "results_df = pd.DataFrame(all_results)\n",
    "results_df.to_csv(\"C-index_and_feautre_importances_rsf_5year.csv\", index=False)\n",
    "\n",
    "mean_c_index = np.mean(c_index)\n",
    "std_c_index = np.std(c_index)\n",
    "\n",
    "print(f\"C-index 평균: {mean_c_index:.4f}\")\n",
    "print(f\"C-index 표준편차: {std_c_index:.4f}\")"
   ]
  },
  {
   "cell_type": "markdown",
   "id": "b129b7e1",
   "metadata": {},
   "source": [
    "### GB-Survival"
   ]
  },
  {
   "cell_type": "code",
   "execution_count": 92,
   "id": "94f54809",
   "metadata": {},
   "outputs": [
    {
     "name": "stdout",
     "output_type": "stream",
     "text": [
      "C-index 평균: 0.9357\n",
      "C-index 표준편차: 0.0000\n"
     ]
    }
   ],
   "source": [
    "n_iterations = 10\n",
    "all_results = []\n",
    "\n",
    "for i in range(n_iterations):\n",
    "    \n",
    "    gb_model = GradientBoostingSurvivalAnalysis(n_estimators=100, random_state=i)\n",
    "# Fit the machine learning model to the training data\n",
    "    gb_model.fit(X_train, y_train_structured)\n",
    "    \n",
    "# Make predictions using the trained model\n",
    "    y_pred = gb_model.predict(X_test)\n",
    "    c_index = concordance_index_censored(y_test_structured['5year_death'], y_test_structured['5year_survival_time(day)'], y_pred)[0]\n",
    "    \n",
    "    \n",
    "    feature_importances = gb_model.feature_importances_\n",
    "    features = X_train.columns\n",
    "    \n",
    "    for feature, importance in zip(features, feature_importances):\n",
    "        all_results.append({\n",
    "            \"Iteration\": i+1,\n",
    "            \"C-index\": c_index,\n",
    "            \"feature\": feature,\n",
    "            \"Importance\": importance\n",
    "        })\n",
    "        \n",
    "results_df = pd.DataFrame(all_results)\n",
    "results_df.to_csv(\"C-index_and_feautre_importances_gb_5year.csv\", index=False)\n",
    "\n",
    "\n",
    "mean_c_index = np.mean(c_index)\n",
    "std_c_index = np.std(c_index)\n",
    "\n",
    "print(f\"C-index 평균: {mean_c_index:.4f}\")\n",
    "print(f\"C-index 표준편차: {std_c_index:.4f}\")"
   ]
  },
  {
   "cell_type": "markdown",
   "id": "1aa36a0f",
   "metadata": {},
   "source": [
    "### EST"
   ]
  },
  {
   "cell_type": "code",
   "execution_count": 93,
   "id": "99980170",
   "metadata": {},
   "outputs": [
    {
     "name": "stdout",
     "output_type": "stream",
     "text": [
      "C-index 평균: 0.9368\n",
      "C-index 표준편차: 0.0000\n"
     ]
    }
   ],
   "source": [
    "n_iterations = 10\n",
    "all_results = []\n",
    "\n",
    "for i in range(n_iterations):\n",
    "    \n",
    "    est_model = ExtraSurvivalTrees(n_estimators=100, random_state=i)\n",
    "# Fit the machine learning model to the training data\n",
    "    est_model.fit(X_train, y_train_structured)\n",
    "    \n",
    "# Make predictions using the trained model\n",
    "    y_pred = est_model.predict(X_test)\n",
    "    c_index = concordance_index_censored(y_test_structured['5year_death'], y_test_structured['5year_survival_time(day)'], y_pred)[0]\n",
    "    \n",
    "    result = permutation_importance(est_model, X_test, y_test_structured, n_repeats=10, random_state=i)\n",
    "    feature_importances = result.importances_mean\n",
    "    features = X_train.columns\n",
    "    \n",
    "    for feature, importance in zip(features, feature_importances):\n",
    "        all_results.append({\n",
    "            \"Iteration\": i+1,\n",
    "            \"C-index\": c_index,\n",
    "            \"feature\": feature,\n",
    "            \"Importance\": importance\n",
    "        })\n",
    "        \n",
    "results_df = pd.DataFrame(all_results)\n",
    "results_df.to_csv(\"C-index_and_feautre_importances_est_5year.csv\", index=False)\n",
    "\n",
    "\n",
    "mean_c_index = np.mean(c_index)\n",
    "std_c_index = np.std(c_index)\n",
    "\n",
    "print(f\"C-index 평균: {mean_c_index:.4f}\")\n",
    "print(f\"C-index 표준편차: {std_c_index:.4f}\")"
   ]
  },
  {
   "cell_type": "markdown",
   "id": "37cdb63c",
   "metadata": {},
   "source": [
    "### SVMSurvival"
   ]
  },
  {
   "cell_type": "code",
   "execution_count": 73,
   "id": "374f98e5",
   "metadata": {},
   "outputs": [
    {
     "name": "stdout",
     "output_type": "stream",
     "text": [
      "C-index 평균: 0.0758\n",
      "C-index 표준편차: 0.0000\n"
     ]
    }
   ],
   "source": [
    "from sksurv.svm import FastSurvivalSVM\n",
    "from sklearn.preprocessing import StandardScaler\n",
    "\n",
    "n_iterations = 10\n",
    "all_results = []\n",
    "\n",
    "for i in range(n_iterations):\n",
    "    \n",
    "    scaler=StandardScaler()\n",
    "    X_train_scaled = scaler.fit_transform(X_train)\n",
    "    X_test_scaled = scaler.fit_transform(X_test)\n",
    "    \n",
    "    svm_model = FastSurvivalSVM(rank_ratio=0.5, random_state=i)\n",
    "# Fit the machine learning model to the training data\n",
    "    svm_model.fit(X_train_scaled, y_train_structured)\n",
    "    \n",
    "# Make predictions using the trained model\n",
    "    y_pred = svm_model.predict(X_test_scaled)\n",
    "    c_index = concordance_index_censored(y_test_structured['3year_death'], y_test_structured['3year_survival_time(day)'], y_pred)[0]\n",
    "    \n",
    "    \n",
    "    feature_importances = svm_model.coef_\n",
    "    features = X_train.columns\n",
    "    \n",
    "    for feature, importance in zip(features, feature_importances):\n",
    "        all_results.append({\n",
    "            \"Iteration\": i+1,\n",
    "            \"C-index\": c_index,\n",
    "            \"feature\": feature,\n",
    "            \"Importance\": importance\n",
    "        })\n",
    "        \n",
    "results_df = pd.DataFrame(all_results)\n",
    "results_df.to_csv(\"C-index_and_feautre_importances_svm_3year.csv\", index=False)\n",
    "\n",
    "\n",
    "mean_c_index = np.mean(c_index)\n",
    "std_c_index = np.std(c_index)\n",
    "\n",
    "print(f\"C-index 평균: {mean_c_index:.4f}\")\n",
    "print(f\"C-index 표준편차: {std_c_index:.4f}\")"
   ]
  },
  {
   "cell_type": "markdown",
   "id": "37a20b19",
   "metadata": {},
   "source": [
    "### the most important feature"
   ]
  },
  {
   "cell_type": "code",
   "execution_count": 102,
   "id": "b76b3d52",
   "metadata": {},
   "outputs": [
    {
     "name": "stdout",
     "output_type": "stream",
     "text": [
      "        Feature  Importance_mean  Importance_Count\n",
      "2   AJCC7_STAGE         0.105182                10\n",
      "62       T_SIZE         0.018127                10\n",
      "37        GRADE         0.004572                10\n",
      "63        hyper         0.003538                10\n",
      "28  G1E_WGHT_50         0.002919                10\n",
      "51   Q_SMK_YN_3         0.002542                10\n",
      "16      G1E_HGB         0.002451                10\n",
      "39           LD         0.002144                10\n",
      "4          COPD         0.001855                10\n",
      "14      G1E_GGT         0.001604                10\n"
     ]
    }
   ],
   "source": [
    "# Importing necessary libraries\n",
    "importance_df = pd.read_csv('/project/kc20230915001/src/survival_results/C-index_and_feautre_importances_est_5year.csv')\n",
    "\n",
    "feature_group = importance_df.groupby('feature').agg({'Importance':['mean','count']\n",
    "                                                     }).reset_index()\n",
    "feature_group.columns = ['Feature', 'Importance_mean', 'Importance_Count']\n",
    "\n",
    "sorted_features = feature_group.sort_values('Importance_mean', ascending=False)\n",
    "\n",
    "# Display the first few rows of the dataset\n",
    "top_features = sorted_features.head(10)\n",
    "\n",
    "top_features.to_csv('top_feautres_est_5year.csv', index=False)\n",
    "print(top_features)"
   ]
  },
  {
   "cell_type": "code",
   "execution_count": null,
   "id": "2437968a",
   "metadata": {},
   "outputs": [],
   "source": []
  }
 ],
 "metadata": {
  "kernelspec": {
   "display_name": "gpu(16GBx1ea)",
   "language": "python",
   "name": "bitfusion-1"
  },
  "language_info": {
   "codemirror_mode": {
    "name": "ipython",
    "version": 3
   },
   "file_extension": ".py",
   "mimetype": "text/x-python",
   "name": "python",
   "nbconvert_exporter": "python",
   "pygments_lexer": "ipython3",
   "version": "3.7.5"
  }
 },
 "nbformat": 4,
 "nbformat_minor": 5
}
